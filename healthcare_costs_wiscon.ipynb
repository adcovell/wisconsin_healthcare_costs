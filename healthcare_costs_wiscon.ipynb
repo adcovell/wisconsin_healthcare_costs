{
 "cells": [
  {
   "cell_type": "code",
   "execution_count": 1,
   "id": "032cc70a-8524-4309-ba60-cf815b79d620",
   "metadata": {},
   "outputs": [],
   "source": [
<<<<<<< HEAD
    "import pandas as pd\n",
    "import seaborn as sns\n",
    "\n",
    "%matplotlib inline"
=======
    "import pandas as pd\n"
>>>>>>> 149bb4f2fc54c1eecb308b210779dc881f5c3b72
   ]
  },
  {
   "cell_type": "code",
   "execution_count": 2,
   "id": "f6555000-99ee-46c8-88d0-268cb78ba0be",
   "metadata": {},
   "outputs": [
    {
     "data": {
      "text/html": [
       "<div>\n",
       "<style scoped>\n",
       "    .dataframe tbody tr th:only-of-type {\n",
       "        vertical-align: middle;\n",
       "    }\n",
       "\n",
       "    .dataframe tbody tr th {\n",
       "        vertical-align: top;\n",
       "    }\n",
       "\n",
       "    .dataframe thead th {\n",
       "        text-align: right;\n",
       "    }\n",
       "</style>\n",
       "<table border=\"1\" class=\"dataframe\">\n",
       "  <thead>\n",
       "    <tr style=\"text-align: right;\">\n",
       "      <th></th>\n",
       "      <th>AGE</th>\n",
       "      <th>FEMALE</th>\n",
       "      <th>LOS</th>\n",
       "      <th>RACE</th>\n",
       "      <th>TOTCHG</th>\n",
       "      <th>APRDRG</th>\n",
       "    </tr>\n",
       "  </thead>\n",
       "  <tbody>\n",
       "    <tr>\n",
       "      <th>0</th>\n",
       "      <td>17</td>\n",
       "      <td>1</td>\n",
       "      <td>2</td>\n",
       "      <td>1.0</td>\n",
       "      <td>2660</td>\n",
       "      <td>560</td>\n",
       "    </tr>\n",
       "    <tr>\n",
       "      <th>1</th>\n",
       "      <td>17</td>\n",
       "      <td>0</td>\n",
       "      <td>2</td>\n",
       "      <td>1.0</td>\n",
       "      <td>1689</td>\n",
       "      <td>753</td>\n",
       "    </tr>\n",
       "    <tr>\n",
       "      <th>2</th>\n",
       "      <td>17</td>\n",
       "      <td>1</td>\n",
       "      <td>7</td>\n",
       "      <td>1.0</td>\n",
       "      <td>20060</td>\n",
       "      <td>930</td>\n",
       "    </tr>\n",
       "    <tr>\n",
       "      <th>3</th>\n",
       "      <td>17</td>\n",
       "      <td>1</td>\n",
       "      <td>1</td>\n",
       "      <td>1.0</td>\n",
       "      <td>736</td>\n",
       "      <td>758</td>\n",
       "    </tr>\n",
       "    <tr>\n",
       "      <th>4</th>\n",
       "      <td>17</td>\n",
       "      <td>1</td>\n",
       "      <td>1</td>\n",
       "      <td>1.0</td>\n",
       "      <td>1194</td>\n",
       "      <td>754</td>\n",
       "    </tr>\n",
       "  </tbody>\n",
       "</table>\n",
       "</div>"
      ],
      "text/plain": [
       "   AGE  FEMALE  LOS  RACE  TOTCHG  APRDRG\n",
       "0   17       1    2   1.0    2660     560\n",
       "1   17       0    2   1.0    1689     753\n",
       "2   17       1    7   1.0   20060     930\n",
       "3   17       1    1   1.0     736     758\n",
       "4   17       1    1   1.0    1194     754"
      ]
     },
     "metadata": {},
     "output_type": "display_data"
    }
   ],
   "source": [
    "# Column Reminder\n",
    "# [\"LOS\" - Length Of Stay, \"TOTCHG\" - Hospital Discharge Cost, \"APRDRG\" - All Patient Refined Diagnosis Related Groups]\n",
    "main_df = pd.read_csv(\"~/Desktop/kaggle_data/wisconsin_healthcare_costs/HospitalCosts.csv\")\n",
    "display(main_df.head())\n",
    "\n",
    "# Goals of Project\n",
    "#     Find Age Category Who Visit the Hospital Frequently & Have Highest Costs\n",
    "#     Find The Diagnosis Related Group That Has Maximum Hospitalization and Expenditure\n",
    "#     Find if Race is Related to Cost\n",
    "#     Analyze The Severity of The Hospital Costs by Age and Gender for Proper Allocation of Resources\n",
<<<<<<< HEAD
    "#     Find If The Length of Stay Can be Predicted from Age, Gender, and Race\n",
    "#     Find The Variable That Mainly Affects The Hospital Costs"
=======
    "#     Find If The Length of Stay Can be Predicted from Age, Gender, and Race"
>>>>>>> 149bb4f2fc54c1eecb308b210779dc881f5c3b72
   ]
  },
  {
   "cell_type": "code",
<<<<<<< HEAD
   "execution_count": 3,
=======
   "execution_count": 4,
>>>>>>> 149bb4f2fc54c1eecb308b210779dc881f5c3b72
   "id": "dd1a6681-a0f8-4f5e-b63d-b62b616fe892",
   "metadata": {},
   "outputs": [
    {
     "name": "stdout",
     "output_type": "stream",
     "text": [
      "There are 63 Diagnosis Related Groups.\n",
      "With 500 Total Entries.\n"
     ]
    }
   ],
   "source": [
    "print(\"There are {} Diagnosis Related Groups.\".format(len(main_df.APRDRG.unique())))\n",
    "print(\"With {} Total Entries.\".format(main_df.shape[0]))"
   ]
  },
  {
   "cell_type": "code",
<<<<<<< HEAD
   "execution_count": 4,
   "id": "be6c9ca4-471b-4f73-8f13-ad5f15c047f8",
   "metadata": {},
   "outputs": [
    {
     "data": {
      "text/html": [
       "<div>\n",
       "<style scoped>\n",
       "    .dataframe tbody tr th:only-of-type {\n",
       "        vertical-align: middle;\n",
       "    }\n",
       "\n",
       "    .dataframe tbody tr th {\n",
       "        vertical-align: top;\n",
       "    }\n",
       "\n",
       "    .dataframe thead th {\n",
       "        text-align: right;\n",
       "    }\n",
       "</style>\n",
       "<table border=\"1\" class=\"dataframe\">\n",
       "  <thead>\n",
       "    <tr style=\"text-align: right;\">\n",
       "      <th></th>\n",
       "      <th>AVERAGE_COST</th>\n",
       "      <th>STD_COST</th>\n",
       "      <th>NUM_OF_CASES</th>\n",
       "    </tr>\n",
       "    <tr>\n",
       "      <th>APRDRG</th>\n",
       "      <th></th>\n",
       "      <th></th>\n",
       "      <th></th>\n",
       "    </tr>\n",
       "  </thead>\n",
       "  <tbody>\n",
       "    <tr>\n",
       "      <th>53</th>\n",
       "      <td>8227.100000</td>\n",
       "      <td>2113.349971</td>\n",
       "      <td>10</td>\n",
       "    </tr>\n",
       "    <tr>\n",
       "      <th>640</th>\n",
       "      <td>1640.367041</td>\n",
       "      <td>754.383506</td>\n",
       "      <td>267</td>\n",
       "    </tr>\n",
       "    <tr>\n",
       "      <th>751</th>\n",
       "      <td>1547.571429</td>\n",
       "      <td>780.428454</td>\n",
       "      <td>14</td>\n",
       "    </tr>\n",
       "    <tr>\n",
       "      <th>753</th>\n",
       "      <td>2209.500000</td>\n",
       "      <td>2046.647384</td>\n",
       "      <td>36</td>\n",
       "    </tr>\n",
       "    <tr>\n",
       "      <th>754</th>\n",
       "      <td>1598.648649</td>\n",
       "      <td>1144.305010</td>\n",
       "      <td>37</td>\n",
       "    </tr>\n",
       "    <tr>\n",
       "      <th>755</th>\n",
       "      <td>859.076923</td>\n",
       "      <td>421.757525</td>\n",
       "      <td>13</td>\n",
       "    </tr>\n",
       "    <tr>\n",
       "      <th>758</th>\n",
       "      <td>1747.650000</td>\n",
       "      <td>908.847059</td>\n",
       "      <td>20</td>\n",
       "    </tr>\n",
       "  </tbody>\n",
       "</table>\n",
       "</div>"
      ],
      "text/plain": [
       "        AVERAGE_COST     STD_COST  NUM_OF_CASES\n",
       "APRDRG                                         \n",
       "53       8227.100000  2113.349971            10\n",
       "640      1640.367041   754.383506           267\n",
       "751      1547.571429   780.428454            14\n",
       "753      2209.500000  2046.647384            36\n",
       "754      1598.648649  1144.305010            37\n",
       "755       859.076923   421.757525            13\n",
       "758      1747.650000   908.847059            20"
      ]
     },
     "metadata": {},
     "output_type": "display_data"
    },
    {
     "name": "stdout",
     "output_type": "stream",
     "text": [
      "\n",
      "The Diagnosis Groups That Could Be Interesting.\n",
      "[53, 640, 751, 753, 754, 755, 758]\n"
     ]
    }
   ],
   "source": [
    "# Look At Mean Cost For Specific APRDRG\n",
    "average_costOnAPRDRG_df = main_df.groupby(by = ['APRDRG']).TOTCHG.mean().to_frame()\n",
    "average_costOnAPRDRG_df.columns = ['AVERAGE_COST']\n",
    "\n",
    "# See the Standard Deviation for Cost of Specific APRDRG\n",
    "std_costOnAPRDRG_df = main_df.groupby(by = ['APRDRG']).TOTCHG.std().to_frame()\n",
    "std_costOnAPRDRG_df.columns = ['STD_COST']\n",
    "\n",
    "# Count the Number of Cases for Specific APRDRG\n",
    "count_of_cases_per_APRDRG_df = main_df.groupby(by = ['APRDRG']).TOTCHG.count().to_frame()\n",
    "count_of_cases_per_APRDRG_df.columns = ['NUM_OF_CASES']\n",
    "\n",
    "# Put All in DataFrame, Drop the NaN, Drop the Statistically Irrelavent Data\n",
    "new_df = average_costOnAPRDRG_df.join(std_costOnAPRDRG_df).join(count_of_cases_per_APRDRG_df)\n",
    "new_df.dropna(inplace=True)\n",
    "new_df.drop(new_df[new_df.NUM_OF_CASES < 10].index, inplace=True)\n",
    "display(new_df)\n",
    "interesting_diagnosis_groups = new_df.index.to_list()\n",
    "print(\"\")\n",
    "print(\"The Diagnosis Groups That Could Be Interesting.\")\n",
    "print(interesting_diagnosis_groups)"
   ]
  },
  {
   "cell_type": "code",
   "execution_count": 6,
   "id": "c45887fa-101c-46f9-9e9e-31a59687356d",
   "metadata": {},
   "outputs": [
    {
     "data": {
      "image/png": "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\n",
      "text/plain": [
       "<Figure size 432x288 with 1 Axes>"
      ]
     },
     "metadata": {
      "needs_background": "light"
     },
     "output_type": "display_data"
    }
   ],
   "source": [
    "group_753_df = main_df[main_df.APRDRG == 753].copy()\n",
    "group_753_df['cost_per_day'] = group_753_df.TOTCHG/group_753_df.LOS\n",
    "\n",
    "cost_per_day_list = group_753_df.groupby(by = ['LOS']).cost_per_day.mean().to_list()\n",
    "_ = sns.scatterplot(x=range(1, len(cost_per_day_list)), y=cost_per_day_list[1:])"
   ]
  },
  {
   "cell_type": "code",
   "execution_count": null,
   "id": "b3c4ea63-52b4-4f53-9957-663d1089a29a",
=======
   "execution_count": null,
   "id": "be6c9ca4-471b-4f73-8f13-ad5f15c047f8",
>>>>>>> 149bb4f2fc54c1eecb308b210779dc881f5c3b72
   "metadata": {},
   "outputs": [],
   "source": []
  }
 ],
 "metadata": {
  "kernelspec": {
   "display_name": "Python 3 (ipykernel)",
   "language": "python",
   "name": "python3"
  },
  "language_info": {
   "codemirror_mode": {
    "name": "ipython",
    "version": 3
   },
   "file_extension": ".py",
   "mimetype": "text/x-python",
   "name": "python",
   "nbconvert_exporter": "python",
   "pygments_lexer": "ipython3",
   "version": "3.8.10"
  }
 },
 "nbformat": 4,
 "nbformat_minor": 5
}
